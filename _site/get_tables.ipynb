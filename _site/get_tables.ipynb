{
 "cells": [
  {
   "cell_type": "code",
   "execution_count": 69,
   "metadata": {},
   "outputs": [],
   "source": [
    "import os\n",
    "\n",
    "import pandas as pd\n",
    "import requests\n",
    "from bs4 import BeautifulSoup"
   ]
  },
  {
   "cell_type": "code",
   "execution_count": 222,
   "metadata": {},
   "outputs": [
    {
     "data": {
      "text/plain": [
       "(<h2 class=\"tablepress-table-name tablepress-table-name-id-64\">Linea 08 - Horario Especial</h2>,\n",
       "   Plaza H. Nuevo\n",
       " 0               \n",
       " 1               \n",
       " 2               \n",
       " 3               )"
      ]
     },
     "execution_count": 222,
     "metadata": {},
     "output_type": "execute_result"
    }
   ],
   "source": [
    "# creamos las carpetas si no estan\n",
    "path_dirs = ['urbano/', 'interurbano/', 'media-distancia/']\n",
    "for i in path_dirs:\n",
    "    if not os.path.isdir(i):\n",
    "        os.mkdir(i)  \n",
    "        \n",
    "yml = '''---\n",
    "layout: default\n",
    "permalink: /{}{}  \n",
    "---\n",
    "\n",
    "'''        \n",
    "\n",
    "# url donde esta la data\n",
    "url = 'http://satcrc.com.ar/horarios-y-recorridos/'\n",
    "# hacemos le requests y parseamos el html\n",
    "r = requests.get(url)\n",
    "soup = BeautifulSoup(r.text, 'lxml')\n",
    "\n",
    "tables_titles = soup.find_all('h2', attrs={'class':'tablepress-table-name'})\n",
    "\n",
    "# por otro lado, levantamos todas las tablas con pandas\n",
    "dfs = pd.read_html(url)\n",
    "# completamos los nan con un str vacio\n",
    "for df in dfs:\n",
    "    df.fillna('', inplace=True)\n",
    "    col_names = df.columns\n",
    "    df.columns = [i if not 'Unnamed' in i else '' for i in df.columns]\n",
    "    \n",
    "# Eliminamos la ultima tabla vacia del 8 \n",
    "(tables_titles.pop(27), dfs.pop(27))"
   ]
  },
  {
   "cell_type": "code",
   "execution_count": 223,
   "metadata": {},
   "outputs": [],
   "source": [
    "# Spliteamos los titulos de las tablas para saber\n",
    "# cuales hacen referencia a la misma\n",
    "\n",
    "titulos = []\n",
    "for i in range(len(dfs)):\n",
    "    titulo_raw = tables_titles[i].text\n",
    "    \n",
    "    if 'Las Higueras' in titulo_raw:\n",
    "        titulo = 'las-higueras'\n",
    "        titulos.append(titulo)\n",
    "        continue\n",
    "    \n",
    "    if 'Holmberg' in titulo_raw:\n",
    "        titulo = 'holmberg'\n",
    "        titulos.append(titulo)\n",
    "        continue\n",
    "        \n",
    "    if 'Villa María' in titulo_raw:\n",
    "        titulo = 'villa-maria'\n",
    "        titulos.append(titulo)\n",
    "        continue\n",
    "        \n",
    "    if 'Cnel. Moldes' in titulo_raw:\n",
    "        titulo = 'cnel-moldes'\n",
    "        titulos.append(titulo)\n",
    "        continue\n",
    "        \n",
    "    titulo = titulo_raw.lower()\n",
    "    titulo = titulo.split('-')[0]\n",
    "    if titulo[-1] == ' ':\n",
    "        titulo = titulo[:-1]\n",
    "    \n",
    "    for l in ['línea ', 'linea ']:\n",
    "        if l in titulo:\n",
    "            titulo = titulo.split(l)[1]    \n",
    "\n",
    "    if 'de ' in titulo:\n",
    "        titulo = titulo.split('de')[0]\n",
    "        titulo = ''.join(titulo.split(' '))\n",
    "\n",
    "        \n",
    "        \n",
    "    titulo = titulo.replace(' ', '-')\n",
    "        \n",
    "    if len(titulo) == 1 and titulo != 'a':\n",
    "        titulo = '0' + titulo\n",
    "    \n",
    "    titulos.append(titulo)"
   ]
  },
  {
   "cell_type": "code",
   "execution_count": 224,
   "metadata": {},
   "outputs": [],
   "source": [
    "for i in range(61):\n",
    "    if i < 47:\n",
    "        dir_out = path_dirs[0]\n",
    "    elif i < 53:\n",
    "        dir_out = path_dirs[1]\n",
    "    elif i < 61:\n",
    "        dir_out = path_dirs[2]\n",
    "    \n",
    "    path_file = dir_out + titulos[i] + '.html'\n",
    "    \n",
    "    if not os.path.isfile(path_file):\n",
    "        new_file = True\n",
    "    else:\n",
    "        new_file = False\n",
    "    \n",
    "    with open(path_file, 'a') as file:\n",
    "        if new_file:\n",
    "            file.write(yml.format(dir_out, titulos[i]))\n",
    "        file.write('<h2> ' + tables_titles[i].text + ' </h2>\\n')    \n",
    "        file.write(dfs[i].to_html(index=False, border=0))\n",
    "        file.write('\\n')"
   ]
  },
  {
   "cell_type": "code",
   "execution_count": null,
   "metadata": {},
   "outputs": [],
   "source": []
  }
 ],
 "metadata": {
  "kernelspec": {
   "display_name": "Python 3",
   "language": "python",
   "name": "python3"
  },
  "language_info": {
   "codemirror_mode": {
    "name": "ipython",
    "version": 3
   },
   "file_extension": ".py",
   "mimetype": "text/x-python",
   "name": "python",
   "nbconvert_exporter": "python",
   "pygments_lexer": "ipython3",
   "version": "3.6.5"
  }
 },
 "nbformat": 4,
 "nbformat_minor": 2
}
